{
 "cells": [
  {
   "cell_type": "markdown",
   "metadata": {},
   "source": [
    "Imports"
   ]
  },
  {
   "cell_type": "code",
   "execution_count": 1,
   "metadata": {},
   "outputs": [],
   "source": [
    "import pandas as pd\n",
    "import requests"
   ]
  },
  {
   "cell_type": "code",
   "execution_count": 13,
   "metadata": {},
   "outputs": [],
   "source": [
    "def null_check(df):\n",
    "    print('Shape: ', df.shape)\n",
    "    print('\\n', df.isna().sum())"
   ]
  },
  {
   "cell_type": "markdown",
   "metadata": {},
   "source": [
    "Drivers"
   ]
  },
  {
   "cell_type": "code",
   "execution_count": 6,
   "metadata": {},
   "outputs": [],
   "source": [
    "url = 'http://ergast.com/api/f1/drivers.json?limit=1000'\n",
    "r = requests.get(url)\n",
    "drivers = r.json()\n",
    "df_drivers = pd.DataFrame(drivers['MRData']['DriverTable']['Drivers'])"
   ]
  },
  {
   "cell_type": "code",
   "execution_count": 14,
   "metadata": {},
   "outputs": [
    {
     "name": "stdout",
     "output_type": "stream",
     "text": [
      "Shape:  (854, 8)\n",
      "\n",
      " driverId             0\n",
      "url                  0\n",
      "givenName            0\n",
      "familyName           0\n",
      "dateOfBirth          0\n",
      "nationality          0\n",
      "permanentNumber    803\n",
      "code               757\n",
      "dtype: int64\n"
     ]
    }
   ],
   "source": [
    "null_check(df_drivers)"
   ]
  },
  {
   "cell_type": "code",
   "execution_count": 19,
   "metadata": {},
   "outputs": [
    {
     "data": {
      "text/html": [
       "<div>\n",
       "<style scoped>\n",
       "    .dataframe tbody tr th:only-of-type {\n",
       "        vertical-align: middle;\n",
       "    }\n",
       "\n",
       "    .dataframe tbody tr th {\n",
       "        vertical-align: top;\n",
       "    }\n",
       "\n",
       "    .dataframe thead th {\n",
       "        text-align: right;\n",
       "    }\n",
       "</style>\n",
       "<table border=\"1\" class=\"dataframe\">\n",
       "  <thead>\n",
       "    <tr style=\"text-align: right;\">\n",
       "      <th></th>\n",
       "      <th>driverId</th>\n",
       "      <th>url</th>\n",
       "      <th>givenName</th>\n",
       "      <th>familyName</th>\n",
       "      <th>dateOfBirth</th>\n",
       "      <th>nationality</th>\n",
       "      <th>permanentNumber</th>\n",
       "      <th>code</th>\n",
       "    </tr>\n",
       "  </thead>\n",
       "  <tbody>\n",
       "    <tr>\n",
       "      <th>8</th>\n",
       "      <td>aitken</td>\n",
       "      <td>http://en.wikipedia.org/wiki/Jack_Aitken</td>\n",
       "      <td>Jack</td>\n",
       "      <td>Aitken</td>\n",
       "      <td>1995-09-23</td>\n",
       "      <td>British</td>\n",
       "      <td>89</td>\n",
       "      <td>AIT</td>\n",
       "    </tr>\n",
       "    <tr>\n",
       "      <th>10</th>\n",
       "      <td>albon</td>\n",
       "      <td>http://en.wikipedia.org/wiki/Alexander_Albon</td>\n",
       "      <td>Alexander</td>\n",
       "      <td>Albon</td>\n",
       "      <td>1996-03-23</td>\n",
       "      <td>Thai</td>\n",
       "      <td>23</td>\n",
       "      <td>ALB</td>\n",
       "    </tr>\n",
       "    <tr>\n",
       "      <th>16</th>\n",
       "      <td>alonso</td>\n",
       "      <td>http://en.wikipedia.org/wiki/Fernando_Alonso</td>\n",
       "      <td>Fernando</td>\n",
       "      <td>Alonso</td>\n",
       "      <td>1981-07-29</td>\n",
       "      <td>Spanish</td>\n",
       "      <td>14</td>\n",
       "      <td>ALO</td>\n",
       "    </tr>\n",
       "    <tr>\n",
       "      <th>75</th>\n",
       "      <td>jules_bianchi</td>\n",
       "      <td>http://en.wikipedia.org/wiki/Jules_Bianchi</td>\n",
       "      <td>Jules</td>\n",
       "      <td>Bianchi</td>\n",
       "      <td>1989-08-03</td>\n",
       "      <td>French</td>\n",
       "      <td>17</td>\n",
       "      <td>BIA</td>\n",
       "    </tr>\n",
       "    <tr>\n",
       "      <th>96</th>\n",
       "      <td>bottas</td>\n",
       "      <td>http://en.wikipedia.org/wiki/Valtteri_Bottas</td>\n",
       "      <td>Valtteri</td>\n",
       "      <td>Bottas</td>\n",
       "      <td>1989-08-28</td>\n",
       "      <td>Finnish</td>\n",
       "      <td>77</td>\n",
       "      <td>BOT</td>\n",
       "    </tr>\n",
       "    <tr>\n",
       "      <th>131</th>\n",
       "      <td>button</td>\n",
       "      <td>http://en.wikipedia.org/wiki/Jenson_Button</td>\n",
       "      <td>Jenson</td>\n",
       "      <td>Button</td>\n",
       "      <td>1980-01-19</td>\n",
       "      <td>British</td>\n",
       "      <td>22</td>\n",
       "      <td>BUT</td>\n",
       "    </tr>\n",
       "    <tr>\n",
       "      <th>158</th>\n",
       "      <td>chilton</td>\n",
       "      <td>http://en.wikipedia.org/wiki/Max_Chilton</td>\n",
       "      <td>Max</td>\n",
       "      <td>Chilton</td>\n",
       "      <td>1991-04-21</td>\n",
       "      <td>British</td>\n",
       "      <td>4</td>\n",
       "      <td>CHI</td>\n",
       "    </tr>\n",
       "    <tr>\n",
       "      <th>245</th>\n",
       "      <td>ericsson</td>\n",
       "      <td>http://en.wikipedia.org/wiki/Marcus_Ericsson</td>\n",
       "      <td>Marcus</td>\n",
       "      <td>Ericsson</td>\n",
       "      <td>1990-09-02</td>\n",
       "      <td>Swedish</td>\n",
       "      <td>9</td>\n",
       "      <td>ERI</td>\n",
       "    </tr>\n",
       "    <tr>\n",
       "      <th>267</th>\n",
       "      <td>pietro_fittipaldi</td>\n",
       "      <td>http://en.wikipedia.org/wiki/Pietro_Fittipaldi</td>\n",
       "      <td>Pietro</td>\n",
       "      <td>Fittipaldi</td>\n",
       "      <td>1996-06-25</td>\n",
       "      <td>Brazilian</td>\n",
       "      <td>51</td>\n",
       "      <td>FIT</td>\n",
       "    </tr>\n",
       "    <tr>\n",
       "      <th>302</th>\n",
       "      <td>gasly</td>\n",
       "      <td>http://en.wikipedia.org/wiki/Pierre_Gasly</td>\n",
       "      <td>Pierre</td>\n",
       "      <td>Gasly</td>\n",
       "      <td>1996-02-07</td>\n",
       "      <td>French</td>\n",
       "      <td>10</td>\n",
       "      <td>GAS</td>\n",
       "    </tr>\n",
       "  </tbody>\n",
       "</table>\n",
       "</div>"
      ],
      "text/plain": [
       "              driverId                                             url  \\\n",
       "8               aitken        http://en.wikipedia.org/wiki/Jack_Aitken   \n",
       "10               albon    http://en.wikipedia.org/wiki/Alexander_Albon   \n",
       "16              alonso    http://en.wikipedia.org/wiki/Fernando_Alonso   \n",
       "75       jules_bianchi      http://en.wikipedia.org/wiki/Jules_Bianchi   \n",
       "96              bottas    http://en.wikipedia.org/wiki/Valtteri_Bottas   \n",
       "131             button      http://en.wikipedia.org/wiki/Jenson_Button   \n",
       "158            chilton        http://en.wikipedia.org/wiki/Max_Chilton   \n",
       "245           ericsson    http://en.wikipedia.org/wiki/Marcus_Ericsson   \n",
       "267  pietro_fittipaldi  http://en.wikipedia.org/wiki/Pietro_Fittipaldi   \n",
       "302              gasly       http://en.wikipedia.org/wiki/Pierre_Gasly   \n",
       "\n",
       "     givenName  familyName dateOfBirth nationality permanentNumber code  \n",
       "8         Jack      Aitken  1995-09-23     British              89  AIT  \n",
       "10   Alexander       Albon  1996-03-23        Thai              23  ALB  \n",
       "16    Fernando      Alonso  1981-07-29     Spanish              14  ALO  \n",
       "75       Jules     Bianchi  1989-08-03      French              17  BIA  \n",
       "96    Valtteri      Bottas  1989-08-28     Finnish              77  BOT  \n",
       "131     Jenson      Button  1980-01-19     British              22  BUT  \n",
       "158        Max     Chilton  1991-04-21     British               4  CHI  \n",
       "245     Marcus    Ericsson  1990-09-02     Swedish               9  ERI  \n",
       "267     Pietro  Fittipaldi  1996-06-25   Brazilian              51  FIT  \n",
       "302     Pierre       Gasly  1996-02-07      French              10  GAS  "
      ]
     },
     "execution_count": 19,
     "metadata": {},
     "output_type": "execute_result"
    }
   ],
   "source": [
    "# recent drivers have both fields\n",
    "df_drivers[df_drivers['permanentNumber'].notna()].head(10)"
   ]
  },
  {
   "cell_type": "markdown",
   "metadata": {},
   "source": [
    "Seasons"
   ]
  },
  {
   "cell_type": "code",
   "execution_count": 20,
   "metadata": {},
   "outputs": [],
   "source": [
    "url = 'http://ergast.com/api/f1/seasons.json?limit=1000'\n",
    "r = requests.get(url)"
   ]
  },
  {
   "cell_type": "code",
   "execution_count": 25,
   "metadata": {},
   "outputs": [],
   "source": [
    "seasons = r.json()\n",
    "df_seasons = pd.DataFrame(seasons['MRData']['SeasonTable']['Seasons'])"
   ]
  },
  {
   "cell_type": "code",
   "execution_count": 28,
   "metadata": {},
   "outputs": [
    {
     "data": {
      "text/plain": [
       "{'season': '2022',\n",
       " 'url': 'http://en.wikipedia.org/wiki/2022_Formula_One_World_Championship'}"
      ]
     },
     "execution_count": 28,
     "metadata": {},
     "output_type": "execute_result"
    }
   ],
   "source": [
    "seasons['MRData']['SeasonTable']['Seasons'][-1]"
   ]
  },
  {
   "cell_type": "code",
   "execution_count": 26,
   "metadata": {},
   "outputs": [
    {
     "data": {
      "text/html": [
       "<div>\n",
       "<style scoped>\n",
       "    .dataframe tbody tr th:only-of-type {\n",
       "        vertical-align: middle;\n",
       "    }\n",
       "\n",
       "    .dataframe tbody tr th {\n",
       "        vertical-align: top;\n",
       "    }\n",
       "\n",
       "    .dataframe thead th {\n",
       "        text-align: right;\n",
       "    }\n",
       "</style>\n",
       "<table border=\"1\" class=\"dataframe\">\n",
       "  <thead>\n",
       "    <tr style=\"text-align: right;\">\n",
       "      <th></th>\n",
       "      <th>season</th>\n",
       "      <th>url</th>\n",
       "    </tr>\n",
       "  </thead>\n",
       "  <tbody>\n",
       "    <tr>\n",
       "      <th>0</th>\n",
       "      <td>1950</td>\n",
       "      <td>http://en.wikipedia.org/wiki/1950_Formula_One_...</td>\n",
       "    </tr>\n",
       "    <tr>\n",
       "      <th>1</th>\n",
       "      <td>1951</td>\n",
       "      <td>http://en.wikipedia.org/wiki/1951_Formula_One_...</td>\n",
       "    </tr>\n",
       "    <tr>\n",
       "      <th>2</th>\n",
       "      <td>1952</td>\n",
       "      <td>http://en.wikipedia.org/wiki/1952_Formula_One_...</td>\n",
       "    </tr>\n",
       "    <tr>\n",
       "      <th>3</th>\n",
       "      <td>1953</td>\n",
       "      <td>http://en.wikipedia.org/wiki/1953_Formula_One_...</td>\n",
       "    </tr>\n",
       "    <tr>\n",
       "      <th>4</th>\n",
       "      <td>1954</td>\n",
       "      <td>http://en.wikipedia.org/wiki/1954_Formula_One_...</td>\n",
       "    </tr>\n",
       "  </tbody>\n",
       "</table>\n",
       "</div>"
      ],
      "text/plain": [
       "  season                                                url\n",
       "0   1950  http://en.wikipedia.org/wiki/1950_Formula_One_...\n",
       "1   1951  http://en.wikipedia.org/wiki/1951_Formula_One_...\n",
       "2   1952  http://en.wikipedia.org/wiki/1952_Formula_One_...\n",
       "3   1953  http://en.wikipedia.org/wiki/1953_Formula_One_...\n",
       "4   1954  http://en.wikipedia.org/wiki/1954_Formula_One_..."
      ]
     },
     "execution_count": 26,
     "metadata": {},
     "output_type": "execute_result"
    }
   ],
   "source": [
    "df_seasons.head()"
   ]
  },
  {
   "cell_type": "markdown",
   "metadata": {},
   "source": [
    "Qualifying"
   ]
  },
  {
   "cell_type": "code",
   "execution_count": 66,
   "metadata": {},
   "outputs": [],
   "source": [
    "url = 'http://ergast.com/api/f1/2009/qualifying.json?limit=10000'\n",
    "r = requests.get(url)\n",
    "quali = r.json()"
   ]
  },
  {
   "cell_type": "code",
   "execution_count": 67,
   "metadata": {},
   "outputs": [],
   "source": [
    "df_quali = pd.DataFrame(quali['MRData']['RaceTable']['Races'])"
   ]
  },
  {
   "cell_type": "code",
   "execution_count": 68,
   "metadata": {},
   "outputs": [
    {
     "data": {
      "text/html": [
       "<div>\n",
       "<style scoped>\n",
       "    .dataframe tbody tr th:only-of-type {\n",
       "        vertical-align: middle;\n",
       "    }\n",
       "\n",
       "    .dataframe tbody tr th {\n",
       "        vertical-align: top;\n",
       "    }\n",
       "\n",
       "    .dataframe thead th {\n",
       "        text-align: right;\n",
       "    }\n",
       "</style>\n",
       "<table border=\"1\" class=\"dataframe\">\n",
       "  <thead>\n",
       "    <tr style=\"text-align: right;\">\n",
       "      <th></th>\n",
       "      <th>season</th>\n",
       "      <th>round</th>\n",
       "      <th>url</th>\n",
       "      <th>raceName</th>\n",
       "      <th>Circuit</th>\n",
       "      <th>date</th>\n",
       "      <th>time</th>\n",
       "      <th>QualifyingResults</th>\n",
       "    </tr>\n",
       "  </thead>\n",
       "  <tbody>\n",
       "    <tr>\n",
       "      <th>0</th>\n",
       "      <td>2009</td>\n",
       "      <td>1</td>\n",
       "      <td>http://en.wikipedia.org/wiki/2009_Australian_G...</td>\n",
       "      <td>Australian Grand Prix</td>\n",
       "      <td>{'circuitId': 'albert_park', 'url': 'http://en...</td>\n",
       "      <td>2009-03-29</td>\n",
       "      <td>06:00:00Z</td>\n",
       "      <td>[{'number': '22', 'position': '1', 'Driver': {...</td>\n",
       "    </tr>\n",
       "    <tr>\n",
       "      <th>1</th>\n",
       "      <td>2009</td>\n",
       "      <td>2</td>\n",
       "      <td>http://en.wikipedia.org/wiki/2009_Malaysian_Gr...</td>\n",
       "      <td>Malaysian Grand Prix</td>\n",
       "      <td>{'circuitId': 'sepang', 'url': 'http://en.wiki...</td>\n",
       "      <td>2009-04-05</td>\n",
       "      <td>09:00:00Z</td>\n",
       "      <td>[{'number': '22', 'position': '1', 'Driver': {...</td>\n",
       "    </tr>\n",
       "    <tr>\n",
       "      <th>2</th>\n",
       "      <td>2009</td>\n",
       "      <td>3</td>\n",
       "      <td>http://en.wikipedia.org/wiki/2009_Chinese_Gran...</td>\n",
       "      <td>Chinese Grand Prix</td>\n",
       "      <td>{'circuitId': 'shanghai', 'url': 'http://en.wi...</td>\n",
       "      <td>2009-04-19</td>\n",
       "      <td>07:00:00Z</td>\n",
       "      <td>[{'number': '15', 'position': '1', 'Driver': {...</td>\n",
       "    </tr>\n",
       "    <tr>\n",
       "      <th>3</th>\n",
       "      <td>2009</td>\n",
       "      <td>4</td>\n",
       "      <td>http://en.wikipedia.org/wiki/2009_Bahrain_Gran...</td>\n",
       "      <td>Bahrain Grand Prix</td>\n",
       "      <td>{'circuitId': 'bahrain', 'url': 'http://en.wik...</td>\n",
       "      <td>2009-04-26</td>\n",
       "      <td>12:00:00Z</td>\n",
       "      <td>[{'number': '9', 'position': '1', 'Driver': {'...</td>\n",
       "    </tr>\n",
       "    <tr>\n",
       "      <th>4</th>\n",
       "      <td>2009</td>\n",
       "      <td>5</td>\n",
       "      <td>http://en.wikipedia.org/wiki/2009_Spanish_Gran...</td>\n",
       "      <td>Spanish Grand Prix</td>\n",
       "      <td>{'circuitId': 'catalunya', 'url': 'http://en.w...</td>\n",
       "      <td>2009-05-10</td>\n",
       "      <td>12:00:00Z</td>\n",
       "      <td>[{'number': '22', 'position': '1', 'Driver': {...</td>\n",
       "    </tr>\n",
       "  </tbody>\n",
       "</table>\n",
       "</div>"
      ],
      "text/plain": [
       "  season round                                                url  \\\n",
       "0   2009     1  http://en.wikipedia.org/wiki/2009_Australian_G...   \n",
       "1   2009     2  http://en.wikipedia.org/wiki/2009_Malaysian_Gr...   \n",
       "2   2009     3  http://en.wikipedia.org/wiki/2009_Chinese_Gran...   \n",
       "3   2009     4  http://en.wikipedia.org/wiki/2009_Bahrain_Gran...   \n",
       "4   2009     5  http://en.wikipedia.org/wiki/2009_Spanish_Gran...   \n",
       "\n",
       "                raceName                                            Circuit  \\\n",
       "0  Australian Grand Prix  {'circuitId': 'albert_park', 'url': 'http://en...   \n",
       "1   Malaysian Grand Prix  {'circuitId': 'sepang', 'url': 'http://en.wiki...   \n",
       "2     Chinese Grand Prix  {'circuitId': 'shanghai', 'url': 'http://en.wi...   \n",
       "3     Bahrain Grand Prix  {'circuitId': 'bahrain', 'url': 'http://en.wik...   \n",
       "4     Spanish Grand Prix  {'circuitId': 'catalunya', 'url': 'http://en.w...   \n",
       "\n",
       "         date       time                                  QualifyingResults  \n",
       "0  2009-03-29  06:00:00Z  [{'number': '22', 'position': '1', 'Driver': {...  \n",
       "1  2009-04-05  09:00:00Z  [{'number': '22', 'position': '1', 'Driver': {...  \n",
       "2  2009-04-19  07:00:00Z  [{'number': '15', 'position': '1', 'Driver': {...  \n",
       "3  2009-04-26  12:00:00Z  [{'number': '9', 'position': '1', 'Driver': {'...  \n",
       "4  2009-05-10  12:00:00Z  [{'number': '22', 'position': '1', 'Driver': {...  "
      ]
     },
     "execution_count": 68,
     "metadata": {},
     "output_type": "execute_result"
    }
   ],
   "source": [
    "df_quali.head()"
   ]
  },
  {
   "cell_type": "code",
   "execution_count": 69,
   "metadata": {},
   "outputs": [
    {
     "data": {
      "text/plain": [
       "17"
      ]
     },
     "execution_count": 69,
     "metadata": {},
     "output_type": "execute_result"
    }
   ],
   "source": [
    "root = quali['MRData']['RaceTable']['Races']\n",
    "len(root)"
   ]
  },
  {
   "cell_type": "code",
   "execution_count": 64,
   "metadata": {},
   "outputs": [
    {
     "name": "stdout",
     "output_type": "stream",
     "text": [
      "1994\n",
      "1994\n",
      "1994\n",
      "1994\n",
      "1994\n",
      "1994\n",
      "1994\n",
      "1994\n",
      "1994\n",
      "1994\n",
      "1994\n",
      "1994\n",
      "1994\n",
      "1994\n",
      "1994\n",
      "1995\n",
      "1995\n",
      "1995\n",
      "1995\n",
      "1995\n",
      "1995\n",
      "1995\n",
      "1995\n",
      "1995\n",
      "1995\n",
      "1995\n",
      "1995\n",
      "1995\n",
      "1995\n",
      "1995\n",
      "1995\n",
      "1995\n",
      "1996\n",
      "1996\n",
      "1996\n",
      "1996\n",
      "1996\n",
      "1996\n",
      "1996\n",
      "1997\n",
      "1997\n"
     ]
    }
   ],
   "source": [
    "for _ in root:\n",
    "    print(_['season'])"
   ]
  },
  {
   "cell_type": "code",
   "execution_count": 49,
   "metadata": {},
   "outputs": [
    {
     "data": {
      "text/plain": [
       "{'number': '3',\n",
       " 'position': '1',\n",
       " 'Driver': {'driverId': 'villeneuve',\n",
       "  'code': 'VIL',\n",
       "  'url': 'http://en.wikipedia.org/wiki/Jacques_Villeneuve',\n",
       "  'givenName': 'Jacques',\n",
       "  'familyName': 'Villeneuve',\n",
       "  'dateOfBirth': '1971-04-09',\n",
       "  'nationality': 'Canadian'},\n",
       " 'Constructor': {'constructorId': 'williams',\n",
       "  'url': 'http://en.wikipedia.org/wiki/Williams_Grand_Prix_Engineering',\n",
       "  'name': 'Williams',\n",
       "  'nationality': 'British'},\n",
       " 'Q1': '1:16.004'}"
      ]
     },
     "execution_count": 49,
     "metadata": {},
     "output_type": "execute_result"
    }
   ],
   "source": [
    "root[-1]['QualifyingResults'][0]"
   ]
  },
  {
   "cell_type": "code",
   "execution_count": 41,
   "metadata": {},
   "outputs": [
    {
     "data": {
      "text/plain": [
       "0     {'circuitId': 'interlagos', 'url': 'http://en....\n",
       "1     {'circuitId': 'okayama', 'url': 'http://en.wik...\n",
       "2     {'circuitId': 'imola', 'url': 'http://en.wikip...\n",
       "3     {'circuitId': 'catalunya', 'url': 'http://en.w...\n",
       "4     {'circuitId': 'villeneuve', 'url': 'http://en....\n",
       "5     {'circuitId': 'magny_cours', 'url': 'http://en...\n",
       "6     {'circuitId': 'silverstone', 'url': 'http://en...\n",
       "7     {'circuitId': 'hockenheimring', 'url': 'http:/...\n",
       "8     {'circuitId': 'hungaroring', 'url': 'http://en...\n",
       "9     {'circuitId': 'spa', 'url': 'http://en.wikiped...\n",
       "10    {'circuitId': 'monza', 'url': 'http://en.wikip...\n",
       "11    {'circuitId': 'estoril', 'url': 'http://en.wik...\n",
       "12    {'circuitId': 'jerez', 'url': 'http://en.wikip...\n",
       "13    {'circuitId': 'suzuka', 'url': 'http://en.wiki...\n",
       "14    {'circuitId': 'adelaide', 'url': 'http://en.wi...\n",
       "15    {'circuitId': 'interlagos', 'url': 'http://en....\n",
       "16    {'circuitId': 'galvez', 'url': 'http://en.wiki...\n",
       "17    {'circuitId': 'imola', 'url': 'http://en.wikip...\n",
       "18    {'circuitId': 'catalunya', 'url': 'http://en.w...\n",
       "19    {'circuitId': 'monaco', 'url': 'http://en.wiki...\n",
       "20    {'circuitId': 'villeneuve', 'url': 'http://en....\n",
       "21    {'circuitId': 'magny_cours', 'url': 'http://en...\n",
       "22    {'circuitId': 'silverstone', 'url': 'http://en...\n",
       "23    {'circuitId': 'hockenheimring', 'url': 'http:/...\n",
       "24    {'circuitId': 'hungaroring', 'url': 'http://en...\n",
       "25    {'circuitId': 'spa', 'url': 'http://en.wikiped...\n",
       "26    {'circuitId': 'monza', 'url': 'http://en.wikip...\n",
       "27    {'circuitId': 'estoril', 'url': 'http://en.wik...\n",
       "28    {'circuitId': 'nurburgring', 'url': 'http://en...\n",
       "29    {'circuitId': 'okayama', 'url': 'http://en.wik...\n",
       "30    {'circuitId': 'suzuka', 'url': 'http://en.wiki...\n",
       "31    {'circuitId': 'adelaide', 'url': 'http://en.wi...\n",
       "32    {'circuitId': 'albert_park', 'url': 'http://en...\n",
       "33    {'circuitId': 'interlagos', 'url': 'http://en....\n",
       "34    {'circuitId': 'galvez', 'url': 'http://en.wiki...\n",
       "35    {'circuitId': 'nurburgring', 'url': 'http://en...\n",
       "36    {'circuitId': 'imola', 'url': 'http://en.wikip...\n",
       "37    {'circuitId': 'monaco', 'url': 'http://en.wiki...\n",
       "38    {'circuitId': 'catalunya', 'url': 'http://en.w...\n",
       "39    {'circuitId': 'albert_park', 'url': 'http://en...\n",
       "40    {'circuitId': 'interlagos', 'url': 'http://en....\n",
       "Name: Circuit, dtype: object"
      ]
     },
     "execution_count": 41,
     "metadata": {},
     "output_type": "execute_result"
    }
   ],
   "source": [
    "df_quali['Circuit']"
   ]
  }
 ],
 "metadata": {
  "interpreter": {
   "hash": "6d8e58ab7ed14e1c68b4d40eaac0ea1f5b24c7a11fe47e6dcdd1e1960b573d98"
  },
  "kernelspec": {
   "display_name": "Python 3.9.12 ('f1_env')",
   "language": "python",
   "name": "python3"
  },
  "language_info": {
   "codemirror_mode": {
    "name": "ipython",
    "version": 3
   },
   "file_extension": ".py",
   "mimetype": "text/x-python",
   "name": "python",
   "nbconvert_exporter": "python",
   "pygments_lexer": "ipython3",
   "version": "3.9.12"
  },
  "orig_nbformat": 4
 },
 "nbformat": 4,
 "nbformat_minor": 2
}
